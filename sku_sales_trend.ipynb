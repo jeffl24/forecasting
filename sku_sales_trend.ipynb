{
 "cells": [
  {
   "cell_type": "code",
   "execution_count": 2,
   "metadata": {},
   "outputs": [],
   "source": [
    "import pandas as pd\n",
    "import numpy as np\n",
    "from sklearn.svm import SVR\n",
    "import matplotlib.pyplot as plt\n",
    "%matplotlib inline"
   ]
  },
  {
   "cell_type": "code",
   "execution_count": 3,
   "metadata": {},
   "outputs": [
    {
     "data": {
      "text/plain": [
       "0      42.0\n",
       "1      17.0\n",
       "2      46.0\n",
       "3      66.0\n",
       "4      41.0\n",
       "5      54.0\n",
       "6     107.0\n",
       "7     134.0\n",
       "8     162.0\n",
       "9     133.0\n",
       "10    128.0\n",
       "11    167.0\n",
       "12    206.0\n",
       "13    186.0\n",
       "14    239.0\n",
       "15    162.0\n",
       "16    140.0\n",
       "17    255.0\n",
       "18    202.0\n",
       "19    240.0\n",
       "Name: Quantity, dtype: float64"
      ]
     },
     "execution_count": 3,
     "metadata": {},
     "output_type": "execute_result"
    }
   ],
   "source": [
    "bha_sales = pd.read_csv('2010 Sales.csv')\n",
    "prices = bha_sales['Quantity']\n",
    "dates = bha_sales['Date']"
   ]
  },
  {
   "cell_type": "code",
   "execution_count": 7,
   "metadata": {},
   "outputs": [
    {
     "ename": "SyntaxError",
     "evalue": "invalid syntax (<ipython-input-7-df242143b61f>, line 13)",
     "output_type": "error",
     "traceback": [
      "\u001b[1;36m  File \u001b[1;32m\"<ipython-input-7-df242143b61f>\"\u001b[1;36m, line \u001b[1;32m13\u001b[0m\n\u001b[1;33m    plot.xlabel('Date')\u001b[0m\n\u001b[1;37m       ^\u001b[0m\n\u001b[1;31mSyntaxError\u001b[0m\u001b[1;31m:\u001b[0m invalid syntax\n"
     ]
    }
   ],
   "source": [
    "def predict_sales(dates, prices, x):\n",
    "    dates = np.reshape(dates, (len(dates), 1))\n",
    "    svr_len = SVR(kernel=\"linear\", C=1e3)\n",
    "    svr_poly = SVR(kernel = 'poly', C=1e3, degree =2)\n",
    "    svr_rbf = SVR(kenel = \"rb\", C = 1e3, gamma = 0,1)\n",
    "    svr_lin.fit(dates, prices)\n",
    "    svr_poly.fit(dates, prices)\n",
    "    svr.rbf.fit(dates, prices)\n",
    "    plt.scatter (dates, prices, color = \"black\", label = \"Data\")\n",
    "    plt.plot(dates, svr_rbf.predict(dates), color = \"red\", label = \"RBF model\")\n",
    "    plt.plot(dates, svr_lin.predict(dates), color = 'green', label = \"Linear model\")\n",
    "    plt.plot(dates, svr_poly.predict(dates, color = 'blue', label = 'Polynomial model')\n",
    "    plot.xlabel('Date')\n",
    "    plot.ylabel('Price')\n",
    "    plot.title(\"Support Vector Regression\")\n",
    "    plot.legend()\n",
    "    plot.show()\n",
    "return (svr_rbf.predict(x)[0], svr_lin.predict(x)[0], svr_poly.predict(x)[0])\n",
    "\n",
    "get_data('something.csv')\n",
    "predicted_price = predict_price(dates, prices, 29)"
   ]
  },
  {
   "cell_type": "code",
   "execution_count": null,
   "metadata": {
    "collapsed": true
   },
   "outputs": [],
   "source": []
  }
 ],
 "metadata": {
  "kernelspec": {
   "display_name": "Python 3",
   "language": "python",
   "name": "python3"
  },
  "language_info": {
   "codemirror_mode": {
    "name": "ipython",
    "version": 3
   },
   "file_extension": ".py",
   "mimetype": "text/x-python",
   "name": "python",
   "nbconvert_exporter": "python",
   "pygments_lexer": "ipython3",
   "version": "3.6.1"
  }
 },
 "nbformat": 4,
 "nbformat_minor": 2
}
